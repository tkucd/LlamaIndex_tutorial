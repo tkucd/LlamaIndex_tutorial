{
 "cells": [
  {
   "cell_type": "code",
   "execution_count": 1,
   "metadata": {},
   "outputs": [
    {
     "data": {
      "text/plain": [
       "True"
      ]
     },
     "execution_count": 1,
     "metadata": {},
     "output_type": "execute_result"
    }
   ],
   "source": [
    "import dotenv\n",
    "\n",
    "dotenv.load_dotenv()"
   ]
  },
  {
   "cell_type": "code",
   "execution_count": 2,
   "metadata": {},
   "outputs": [],
   "source": [
    "import logging\n",
    "import sys\n",
    "\n",
    "logging.basicConfig(\n",
    "    stream=sys.stdout,\n",
    "    # DEBUG: デバッグ用に詳細なログを出力する\n",
    "    level=logging.DEBUG,\n",
    "    force=True,\n",
    ")"
   ]
  },
  {
   "cell_type": "code",
   "execution_count": 3,
   "metadata": {},
   "outputs": [
    {
     "name": "stdout",
     "output_type": "stream",
     "text": [
      "DEBUG:llama_index.readers.file.base:> [SimpleDirectoryReader] Total files added: 2\n",
      "documents:  [Document(id_='bb099802-9e7a-4ffd-885f-305f4247850d', embedding=None, metadata={'page_label': '1', 'file_name': 'clever-seals-dive-deep-2001041616-article_only.pdf'}, excluded_embed_metadata_keys=[], excluded_llm_metadata_keys=[], relationships={}, hash='e51c28ce03eaafbf54968aed56e82ca257f6687a229350403366d02bee1e046e', text=\"This article is available at 5 reading levels at https://newsela.com.How deep is the sea? These clever seals know\\nand are happily sharing their secrets\\nWith tracking devices attached to their heads, seals can provide us with more information about the ocean floor when they deep dive. Photo:\\nClive R. McMahon/IMOS/SIMS Photo: Clive R. McMahon/IMOS/SIMS\\nSeals are helping scientists to better understand the deep ocean.\\nClive McMahon works on an elephant seal tagging project at the University of Tasmania in\\nAustralia. He also works with the Sydney Institute of Marine Science (SIMS). McMahon said that\\ndeep-diving seals can provide scientists with a wealth of information on the structure of the ocean\\nfloor.\\nTo gather this information, McMahon and his team attached small satellite-linked devices to seals.\\n(A satellite is a machine that orbits the planet. Some satellites send radio signals that can be used\\nto track things down on Earth.) The devices took measurements of temperature and depth as the\\nseals swam.\\nMcMahon's team tracked more than 500,000 individual seal dives beneath the East Antarctic\\ncontinental shelf. A continental shelf is the edge of a continent that lies under the ocean.By Australian Geographic, adapted by Newsela staf f on 09.17.23\\nWord Count 662\\nLevel 1040L\", start_char_idx=None, end_char_idx=None, text_template='{metadata_str}\\n\\n{content}', metadata_template='{key}: {value}', metadata_seperator='\\n'), Document(id_='48968d3e-d846-4958-8501-a51e9d33b89d', embedding=None, metadata={'page_label': '2', 'file_name': 'clever-seals-dive-deep-2001041616-article_only.pdf'}, excluded_embed_metadata_keys=[], excluded_llm_metadata_keys=[], relationships={}, hash='b5dc57e2d330910be9aa965426346bf6087e44ce7ce2fe499d8b6475efe95e02', text='This article is available at 5 reading levels at https://newsela.com.\\nImage 1. The satellite-linked devices\\nmeasure water conditions as the seals swim\\nat deep depths in the ocean. Photo: Clive R.\\nMcMahon/IMOS/SIMSContinents are the seven main divisions of land on Earth. Seals in the East Antarctic continental\\nshelf region have been equipped with satellite-linked devices since 2004.\\n\"Only a small part of the Antarctic continental shelf was surveyed by ships in the past,\" McMahon\\nsaid. \"So the information available about this area is sparse.\"\\nBut seals are helping scientists fill in the pieces to this puzzle. In July 2023, McMahon and his\\nteam published a study about their work with deep-diving seals. The study was published in a\\nscientific journal.\\nSeals Prove Previous Depth Estimates W rong\\nInformation from seal dives is helping scientists understand\\nhow the ocean affects Antarctica\\'s role in global climate.\\nClimate refers to weather patterns over a long period of time,\\nusually 30 years or more.\\n\"We found in some regions that more than 25 percent of\\nprevious estimates of the ocean depths were wrong,\" said Mark\\nHindell, who also worked on the study. \"We only know this now\\nbecause the seals were diving hundreds of meters below those\\ndepths.\" In extreme cases, he says, they dove more than 1,000\\nmeters (3,281 feet) deeper than what scientists thought was the\\nbottom of the ocean.\\nThe data, or information, from the dives also revealed new underwater features. They revealed\\nnew troughs. A trough is a long, wide and deep sunken area in the ocean floor.\\nThanks to the seals, the scientists also found a deep canyon near the Vanderford Glacier. A glacier\\nis a slow-moving river of ice hundreds or thousands of meters deep.\\nObservations Help Scientists Measure Melt Rates\\nThe observations collected from the seals are helping scientists better understand the shape of the\\nocean floor, especially where there are channels for warm water to access ice shelf cavities, said\\nMcMahon. Ice shelves are floating pieces of ice. They extend from grounded glaciers on land.\\nSometimes, empty holes known as cavities form on the underside of ice shelves. The cavities allow\\nwarm water to reach and melt more of the ice.\\n\"This knowledge is essential for scientists trying to measure ice sheet melt rates,\" McMahon said.\\nAn ice sheet, also known as a continental glacier, is a chunk of glacier ice that covers the land\\nsurrounding it and is greater than 50,000 kilometers (20,000 miles) wide.\\nThe East Antarctic ice sheet is particularly important as it locks in more than 52 meters (171 feet)\\nof global sea level rise. Sea level rise is a measurement of how fast our planet is changing. As global\\ntemperature goes up, ice trapped on land begins to melt, and sea level rises. Water also expands as\\nits temperature increases.\\n\"As the climate changes, greater intrusions of warm water into the shelf cavities are more likely,\"\\nHindell said. Data from satellite-tagged seals can help scientists understand this process. It can\\nhelp them figure out exactly where water is coming into contact with the bottom of ice shelves.', start_char_idx=None, end_char_idx=None, text_template='{metadata_str}\\n\\n{content}', metadata_template='{key}: {value}', metadata_seperator='\\n'), Document(id_='8e73e94d-fb35-41a7-904e-935709408481', embedding=None, metadata={'page_label': '3', 'file_name': 'clever-seals-dive-deep-2001041616-article_only.pdf'}, excluded_embed_metadata_keys=[], excluded_llm_metadata_keys=[], relationships={}, hash='2a33a26d4da01d0f778cfcb36da2e0726480c84d109d0ea91c9be87d94acbb68', text='This article is available at 5 reading levels at https://newsela.com.Hindell said that this data will help scientists study many factors that affect our future oceans and\\nclimate.', start_char_idx=None, end_char_idx=None, text_template='{metadata_str}\\n\\n{content}', metadata_template='{key}: {value}', metadata_seperator='\\n'), Document(id_='3598df74-9741-4465-a781-c0acee264e3e', embedding=None, metadata={'page_label': '1', 'file_name': 'hamilton-roblox-2001041877-article_only.pdf'}, excluded_embed_metadata_keys=[], excluded_llm_metadata_keys=[], relationships={}, hash='0a2dc3894b1cdb1b0cfde200218f189f5a35e2596ce3f077a258092e593f6252', text='This article is available at 5 reading levels at https://newsela.com.If you’ve ever wanted to be in “Hamilton,” you\\ncan now do so — on Roblox\\nThis screenshot provided by Super League shows game avatars from the \"Hamilton\" simulator for Roblox. Photo: Super League/AP  Photo:\\nSuper League/AP\\nThe Broadway musical \"Hamilton\" is an innovative stage show and a huge hit. So when it landed\\non the popular online game Roblox, something entirely new began. It started an immersive online\\nenvironment for a new generation.\\n\"\\'Hamilton\\' has global recognition. Roblox has 66 million daily active users from all around the\\nworld. What a perfect match,\" said Matt Edelman, president and chief commercial officer for\\nSuper League, which designed and built the online experience with Small World Games.\\nIn the \"Hamilton\" simulator, players use their own avatars as they rub shoulders with the\\nmusical\\'s characters and negotiate through 10 levels set during the Revolutionary War. It starts at\\nthe New York docks and the goal is to free the city from British rule. Appropriately, the music-\\nfilled game requires no real money from players.By Associated Press, adapted by Newsela staf f on 09.24.23\\nWord Count 880\\nLevel 1130L', start_char_idx=None, end_char_idx=None, text_template='{metadata_str}\\n\\n{content}', metadata_template='{key}: {value}', metadata_seperator='\\n'), Document(id_='e7189244-abf4-443b-9a0b-f8d3b2566e4b', embedding=None, metadata={'page_label': '2', 'file_name': 'hamilton-roblox-2001041877-article_only.pdf'}, excluded_embed_metadata_keys=[], excluded_llm_metadata_keys=[], relationships={}, hash='2cdc3b8818a3709975f6268dd2c73c851b505d238048d235f6dcba9d81349d3d', text='This article is available at 5 reading levels at https://newsela.com.Edelman says the simulator was intended to be a fun experience for Roblox users. In creating it, he\\nsays they also introduced users to \"Hamilton\" if they didn\\'t already know it and inspired passion in\\nthose who were already fans.\\nThe game has the blessing of writer-composer Lin-Manuel Miranda. His blockbuster musical\\ncharts the rise and fall of statesman Alexander Hamilton and stresses his orphan, immigrant roots\\nas well as his tragic end. Hamilton died in a duel with Aaron Burr, who was vice president of the\\nUnited States at the time.\\nSongs From The Musical Defeat Enemies\\nRoblox is the largest immersive gaming platform on the planet. Businesses like Mattel, the NFL\\nand Cirque du Soleil have all planted a flag there, as have fashion labels like Vans, Ralph Lauren,\\nNike and Gucci.\\n\"If you are an intellectual property owner and you want to connect to the younger generations —\\npeople really under 25 and particularly under 18 — that\\'s where they socialize. That\\'s where they\\nlearn. More than half of Gen Z expects to discover a brand for the first time in an immersive\\nspace,\" Edelman says. Intellectual property is a legal category for an idea or work that one creates\\nor invents and is then able to legally own.\\nHamilton is a simulator game, meaning it mimics activities a person would do in the real world.\\nThe \"Hamilton\" simulator players assemble a squad from characters in the musical to confront the\\nredcoats, or the British army. Victories earn coins, which can be used to better arm companions as\\nstronger enemies lurk.\\nThe 10 settings include a tavern, George Washington\\'s office, town squares, the ballroom where\\nHamilton and his wife, Angelica Schuyler, fall in love and the Battle of Yorktown. Each level has\\nsongs from the musical, including \"Guns and Ships,\" \"You\\'ll Be Back\" and \"The Schuyler Sisters.\"\\nThe songs are also used as a sort of sonic laser to wear down and defeat enemies.\\n\"For us, being able to allow the player to connect to the characters and the music was really\\nimportant. And that really inspired the general approach to the gameplay,\" Edelman says.\\n\"It Has That Feel Of Belonging Everywhere\"\\nThe simulator currently ends around the midpoint of the musical, with British rule defeated and a\\nnascent country needing its Founders to guide it into becoming a nation of laws. Edelman says the\\nnext step is to expand the gameplay.\\nEach scene is carefully realized, with ceremonial swords, candles burning, flowers, artwork,\\nsandbags and smoke. David Korins, who designed \"Hamilton\" for the stage, consulted on the look\\nof the simulator and offered his tweaks. There are also Easter eggs, or hidden messages in the\\ngame, such as a scene in the Public Theater. That\\'s a nod to the off-Broadway space where\\n\"Hamilton\" premiered.\\nEdelman says that \"Hamilton\" has a timeless feel and that\\'s what makes it successful in the Roblox\\nworld. \"It has that innate feel of belonging everywhere,\" he also says.\\nThe genesis of the idea came from Maggie Brohn, the executive producer for \"Hamilton\"\\nworldwide and chief operating officer of Adventureland LCC, the lead producer for \"Hamilton\"', start_char_idx=None, end_char_idx=None, text_template='{metadata_str}\\n\\n{content}', metadata_template='{key}: {value}', metadata_seperator='\\n'), Document(id_='8bc3a87a-c203-4a69-9731-6925fb1eb736', embedding=None, metadata={'page_label': '3', 'file_name': 'hamilton-roblox-2001041877-article_only.pdf'}, excluded_embed_metadata_keys=[], excluded_llm_metadata_keys=[], relationships={}, hash='5d339cbc904e72207debd6dd2f6729348ee1a9a7e74aaf18e85b0200bbebe26f', text='This article is available at 5 reading levels at https://newsela.com.and other Broadway shows. She had been pondering a marriage between the musical and a game\\nmaker, eventually turning to Edelman, her brother, for advice because he knew the perfect\\nplatform.\\n\"My kids during COVID were glued to Roblox,\" Brohn says. \"They became our test group as we\\'ve\\nbeen going through this.\"\\nCreators Hope Game W ill Attract Newcomers\\nThe hardest part was taking an award-winning straightforward narrative and turning it into an\\nengaging, interactive experience. The breakthrough came when it was conceived as a simulator,\\none of the most popular Roblox genres.\\nSuper League and \"Hamilton\" creators suspect their simulator will attract some visitors who have\\nnever heard of the musical. They hope newcomers will get caught in its gravitational force. The\\ncast album was similarly a hit with people who hadn\\'t yet seen the show.\\nEdelman says it is not easy to move a piece of intellectual property like a Broadway musical into a\\nnew medium. However, the impact on both fans and those unfamiliar with \"Hamilton\" is clear.\\n\"The music brought people to \\'Hamilton\\' in some cases before the actual production of the show\\nbrought them there,\" says Edelman. \"I don\\'t think this will be any different if we achieve our\\nprimary goal, which is to make this a fun gameplay experience that attracts the Roblox\\ncommunity.\"', start_char_idx=None, end_char_idx=None, text_template='{metadata_str}\\n\\n{content}', metadata_template='{key}: {value}', metadata_seperator='\\n')]\n"
     ]
    }
   ],
   "source": [
    "from llama_index import SimpleDirectoryReader\n",
    "\n",
    "# ドキュメントの読み込み\n",
    "path = \"../data\"\n",
    "documents = SimpleDirectoryReader(path).load_data()\n",
    "print(\"documents: \", documents)"
   ]
  },
  {
   "cell_type": "code",
   "execution_count": 4,
   "metadata": {},
   "outputs": [],
   "source": [
    "# from llama_index import Document\n",
    "\n",
    "# # ドキュメントを手動で作成\n",
    "\"\"\"何故かエラーとなるためコメントアウト\"\"\"\n",
    "# texts = [\"text1\", \"text2\", \"text3\"]\n",
    "# documents = [Document(text) for text in texts]\n",
    "# print(\"documents: \", documents)\n",
    "# Document(\"text1\")"
   ]
  },
  {
   "cell_type": "code",
   "execution_count": 14,
   "metadata": {},
   "outputs": [
    {
     "name": "stdout",
     "output_type": "stream",
     "text": [
      "DEBUG:llama_index.node_parser.node_utils:> Adding chunk: This article is available at 5 reading levels a...\n",
      "DEBUG:llama_index.node_parser.node_utils:> Adding chunk: This article is available at 5 reading levels a...\n",
      "DEBUG:llama_index.node_parser.node_utils:> Adding chunk: This article is available at 5 reading levels a...\n",
      "DEBUG:llama_index.node_parser.node_utils:> Adding chunk: This article is available at 5 reading levels a...\n",
      "DEBUG:llama_index.node_parser.node_utils:> Adding chunk: This article is available at 5 reading levels a...\n",
      "DEBUG:llama_index.node_parser.node_utils:> Adding chunk: This article is available at 5 reading levels a...\n",
      "DEBUG:openai:message='Request to OpenAI API' method=post path=https://api.openai.com/v1/embeddings\n",
      "DEBUG:openai:api_version=None data='{\"input\": [\"page_label: 1 file_name: clever-seals-dive-deep-2001041616-article_only.pdf  This article is available at 5 reading levels at https://newsela.com.How deep is the sea? These clever seals know and are happily sharing their secrets With tracking devices attached to their heads, seals can provide us with more information about the ocean floor when they deep dive. Photo: Clive R. McMahon/IMOS/SIMS Photo: Clive R. McMahon/IMOS/SIMS Seals are helping scientists to better understand the deep ocean. Clive McMahon works on an elephant seal tagging project at the University of Tasmania in Australia. He also works with the Sydney Institute of Marine Science (SIMS). McMahon said that deep-diving seals can provide scientists with a wealth of information on the structure of the ocean floor. To gather this information, McMahon and his team attached small satellite-linked devices to seals. (A satellite is a machine that orbits the planet. Some satellites send radio signals that can be used to track things down on Earth.) The devices took measurements of temperature and depth as the seals swam. McMahon\\'s team tracked more than 500,000 individual seal dives beneath the East Antarctic continental shelf. A continental shelf is the edge of a continent that lies under the ocean.By Australian Geographic, adapted by Newsela staf f on 09.17.23 Word Count 662 Level 1040L\", \"page_label: 2 file_name: clever-seals-dive-deep-2001041616-article_only.pdf  This article is available at 5 reading levels at https://newsela.com. Image 1. The satellite-linked devices measure water conditions as the seals swim at deep depths in the ocean. Photo: Clive R. McMahon/IMOS/SIMSContinents are the seven main divisions of land on Earth. Seals in the East Antarctic continental shelf region have been equipped with satellite-linked devices since 2004. \\\\\"Only a small part of the Antarctic continental shelf was surveyed by ships in the past,\\\\\" McMahon said. \\\\\"So the information available about this area is sparse.\\\\\" But seals are helping scientists fill in the pieces to this puzzle. In July 2023, McMahon and his team published a study about their work with deep-diving seals. The study was published in a scientific journal. Seals Prove Previous Depth Estimates W rong Information from seal dives is helping scientists understand how the ocean affects Antarctica\\'s role in global climate. Climate refers to weather patterns over a long period of time, usually 30 years or more. \\\\\"We found in some regions that more than 25 percent of previous estimates of the ocean depths were wrong,\\\\\" said Mark Hindell, who also worked on the study. \\\\\"We only know this now because the seals were diving hundreds of meters below those depths.\\\\\" In extreme cases, he says, they dove more than 1,000 meters (3,281 feet) deeper than what scientists thought was the bottom of the ocean. The data, or information, from the dives also revealed new underwater features. They revealed new troughs. A trough is a long, wide and deep sunken area in the ocean floor. Thanks to the seals, the scientists also found a deep canyon near the Vanderford Glacier. A glacier is a slow-moving river of ice hundreds or thousands of meters deep. Observations Help Scientists Measure Melt Rates The observations collected from the seals are helping scientists better understand the shape of the ocean floor, especially where there are channels for warm water to access ice shelf cavities, said McMahon. Ice shelves are floating pieces of ice. They extend from grounded glaciers on land. Sometimes, empty holes known as cavities form on the underside of ice shelves. The cavities allow warm water to reach and melt more of the ice. \\\\\"This knowledge is essential for scientists trying to measure ice sheet melt rates,\\\\\" McMahon said. An ice sheet, also known as a continental glacier, is a chunk of glacier ice that covers the land surrounding it and is greater than 50,000 kilometers (20,000 miles) wide. The East Antarctic ice sheet is particularly important as it locks in more than 52 meters (171 feet) of global sea level rise. Sea level rise is a measurement of how fast our planet is changing. As global temperature goes up, ice trapped on land begins to melt, and sea level rises. Water also expands as its temperature increases. \\\\\"As the climate changes, greater intrusions of warm water into the shelf cavities are more likely,\\\\\" Hindell said. Data from satellite-tagged seals can help scientists understand this process. It can help them figure out exactly where water is coming into contact with the bottom of ice shelves.\", \"page_label: 3 file_name: clever-seals-dive-deep-2001041616-article_only.pdf  This article is available at 5 reading levels at https://newsela.com.Hindell said that this data will help scientists study many factors that affect our future oceans and climate.\", \"page_label: 1 file_name: hamilton-roblox-2001041877-article_only.pdf  This article is available at 5 reading levels at https://newsela.com.If you\\\\u2019ve ever wanted to be in \\\\u201cHamilton,\\\\u201d you can now do so \\\\u2014 on Roblox This screenshot provided by Super League shows game avatars from the \\\\\"Hamilton\\\\\" simulator for Roblox. Photo: Super League/AP  Photo: Super League/AP The Broadway musical \\\\\"Hamilton\\\\\" is an innovative stage show and a huge hit. So when it landed on the popular online game Roblox, something entirely new began. It started an immersive online environment for a new generation. \\\\\"\\'Hamilton\\' has global recognition. Roblox has 66 million daily active users from all around the world. What a perfect match,\\\\\" said Matt Edelman, president and chief commercial officer for Super League, which designed and built the online experience with Small World Games. In the \\\\\"Hamilton\\\\\" simulator, players use their own avatars as they rub shoulders with the musical\\'s characters and negotiate through 10 levels set during the Revolutionary War. It starts at the New York docks and the goal is to free the city from British rule. Appropriately, the music- filled game requires no real money from players.By Associated Press, adapted by Newsela staf f on 09.24.23 Word Count 880 Level 1130L\", \"page_label: 2 file_name: hamilton-roblox-2001041877-article_only.pdf  This article is available at 5 reading levels at https://newsela.com.Edelman says the simulator was intended to be a fun experience for Roblox users. In creating it, he says they also introduced users to \\\\\"Hamilton\\\\\" if they didn\\'t already know it and inspired passion in those who were already fans. The game has the blessing of writer-composer Lin-Manuel Miranda. His blockbuster musical charts the rise and fall of statesman Alexander Hamilton and stresses his orphan, immigrant roots as well as his tragic end. Hamilton died in a duel with Aaron Burr, who was vice president of the United States at the time. Songs From The Musical Defeat Enemies Roblox is the largest immersive gaming platform on the planet. Businesses like Mattel, the NFL and Cirque du Soleil have all planted a flag there, as have fashion labels like Vans, Ralph Lauren, Nike and Gucci. \\\\\"If you are an intellectual property owner and you want to connect to the younger generations \\\\u2014 people really under 25 and particularly under 18 \\\\u2014 that\\'s where they socialize. That\\'s where they learn. More than half of Gen Z expects to discover a brand for the first time in an immersive space,\\\\\" Edelman says. Intellectual property is a legal category for an idea or work that one creates or invents and is then able to legally own. Hamilton is a simulator game, meaning it mimics activities a person would do in the real world. The \\\\\"Hamilton\\\\\" simulator players assemble a squad from characters in the musical to confront the redcoats, or the British army. Victories earn coins, which can be used to better arm companions as stronger enemies lurk. The 10 settings include a tavern, George Washington\\'s office, town squares, the ballroom where Hamilton and his wife, Angelica Schuyler, fall in love and the Battle of Yorktown. Each level has songs from the musical, including \\\\\"Guns and Ships,\\\\\" \\\\\"You\\'ll Be Back\\\\\" and \\\\\"The Schuyler Sisters.\\\\\" The songs are also used as a sort of sonic laser to wear down and defeat enemies. \\\\\"For us, being able to allow the player to connect to the characters and the music was really important. And that really inspired the general approach to the gameplay,\\\\\" Edelman says. \\\\\"It Has That Feel Of Belonging Everywhere\\\\\" The simulator currently ends around the midpoint of the musical, with British rule defeated and a nascent country needing its Founders to guide it into becoming a nation of laws. Edelman says the next step is to expand the gameplay. Each scene is carefully realized, with ceremonial swords, candles burning, flowers, artwork, sandbags and smoke. David Korins, who designed \\\\\"Hamilton\\\\\" for the stage, consulted on the look of the simulator and offered his tweaks. There are also Easter eggs, or hidden messages in the game, such as a scene in the Public Theater. That\\'s a nod to the off-Broadway space where \\\\\"Hamilton\\\\\" premiered. Edelman says that \\\\\"Hamilton\\\\\" has a timeless feel and that\\'s what makes it successful in the Roblox world. \\\\\"It has that innate feel of belonging everywhere,\\\\\" he also says. The genesis of the idea came from Maggie Brohn, the executive producer for \\\\\"Hamilton\\\\\" worldwide and chief operating officer of Adventureland LCC, the lead producer for \\\\\"Hamilton\\\\\"\", \"page_label: 3 file_name: hamilton-roblox-2001041877-article_only.pdf  This article is available at 5 reading levels at https://newsela.com.and other Broadway shows. She had been pondering a marriage between the musical and a game maker, eventually turning to Edelman, her brother, for advice because he knew the perfect platform. \\\\\"My kids during COVID were glued to Roblox,\\\\\" Brohn says. \\\\\"They became our test group as we\\'ve been going through this.\\\\\" Creators Hope Game W ill Attract Newcomers The hardest part was taking an award-winning straightforward narrative and turning it into an engaging, interactive experience. The breakthrough came when it was conceived as a simulator, one of the most popular Roblox genres. Super League and \\\\\"Hamilton\\\\\" creators suspect their simulator will attract some visitors who have never heard of the musical. They hope newcomers will get caught in its gravitational force. The cast album was similarly a hit with people who hadn\\'t yet seen the show. Edelman says it is not easy to move a piece of intellectual property like a Broadway musical into a new medium. However, the impact on both fans and those unfamiliar with \\\\\"Hamilton\\\\\" is clear. \\\\\"The music brought people to \\'Hamilton\\' in some cases before the actual production of the show brought them there,\\\\\" says Edelman. \\\\\"I don\\'t think this will be any different if we achieve our primary goal, which is to make this a fun gameplay experience that attracts the Roblox community.\\\\\"\"], \"model\": \"text-embedding-ada-002\", \"encoding_format\": \"base64\"}' message='Post details'\n",
      "DEBUG:urllib3.connectionpool:https://api.openai.com:443 \"POST /v1/embeddings HTTP/1.1\" 200 None\n",
      "DEBUG:openai:message='OpenAI API response' path=https://api.openai.com/v1/embeddings processing_ms=46 request_id=1cf9c51390f6881acf8d242dfbafd868 response_code=200\n"
     ]
    }
   ],
   "source": [
    "from llama_index import VectorStoreIndex\n",
    "\n",
    "# インデックスの作成\n",
    "index = VectorStoreIndex.from_documents(documents)"
   ]
  },
  {
   "cell_type": "code",
   "execution_count": 13,
   "metadata": {},
   "outputs": [
    {
     "name": "stdout",
     "output_type": "stream",
     "text": [
      "DEBUG:llama_index.node_parser.node_utils:> Adding chunk: This article is available at 5 reading levels a...\n",
      "DEBUG:openai:message='Request to OpenAI API' method=post path=https://api.openai.com/v1/embeddings\n",
      "DEBUG:openai:api_version=None data='{\"input\": [\"page_label: 1 file_name: clever-seals-dive-deep-2001041616-article_only.pdf  This article is available at 5 reading levels at https://newsela.com.How deep is the sea? These clever seals know and are happily sharing their secrets With tracking devices attached to their heads, seals can provide us with more information about the ocean floor when they deep dive. Photo: Clive R. McMahon/IMOS/SIMS Photo: Clive R. McMahon/IMOS/SIMS Seals are helping scientists to better understand the deep ocean. Clive McMahon works on an elephant seal tagging project at the University of Tasmania in Australia. He also works with the Sydney Institute of Marine Science (SIMS). McMahon said that deep-diving seals can provide scientists with a wealth of information on the structure of the ocean floor. To gather this information, McMahon and his team attached small satellite-linked devices to seals. (A satellite is a machine that orbits the planet. Some satellites send radio signals that can be used to track things down on Earth.) The devices took measurements of temperature and depth as the seals swam. McMahon\\'s team tracked more than 500,000 individual seal dives beneath the East Antarctic continental shelf. A continental shelf is the edge of a continent that lies under the ocean.By Australian Geographic, adapted by Newsela staf f on 09.17.23 Word Count 662 Level 1040L\"], \"model\": \"text-embedding-ada-002\", \"encoding_format\": \"base64\"}' message='Post details'\n",
      "DEBUG:urllib3.util.retry:Converted retries value: 2 -> Retry(total=2, connect=None, read=None, redirect=None, status=None)\n",
      "DEBUG:urllib3.connectionpool:Starting new HTTPS connection (1): api.openai.com:443\n",
      "DEBUG:urllib3.connectionpool:https://api.openai.com:443 \"POST /v1/embeddings HTTP/1.1\" 200 None\n",
      "DEBUG:openai:message='OpenAI API response' path=https://api.openai.com/v1/embeddings processing_ms=41 request_id=5b2fda9b60b95101d813e1d33af43a86 response_code=200\n",
      "DEBUG:llama_index.node_parser.node_utils:> Adding chunk: This article is available at 5 reading levels a...\n",
      "DEBUG:openai:message='Request to OpenAI API' method=post path=https://api.openai.com/v1/embeddings\n",
      "DEBUG:openai:api_version=None data='{\"input\": [\"page_label: 2 file_name: clever-seals-dive-deep-2001041616-article_only.pdf  This article is available at 5 reading levels at https://newsela.com. Image 1. The satellite-linked devices measure water conditions as the seals swim at deep depths in the ocean. Photo: Clive R. McMahon/IMOS/SIMSContinents are the seven main divisions of land on Earth. Seals in the East Antarctic continental shelf region have been equipped with satellite-linked devices since 2004. \\\\\"Only a small part of the Antarctic continental shelf was surveyed by ships in the past,\\\\\" McMahon said. \\\\\"So the information available about this area is sparse.\\\\\" But seals are helping scientists fill in the pieces to this puzzle. In July 2023, McMahon and his team published a study about their work with deep-diving seals. The study was published in a scientific journal. Seals Prove Previous Depth Estimates W rong Information from seal dives is helping scientists understand how the ocean affects Antarctica\\'s role in global climate. Climate refers to weather patterns over a long period of time, usually 30 years or more. \\\\\"We found in some regions that more than 25 percent of previous estimates of the ocean depths were wrong,\\\\\" said Mark Hindell, who also worked on the study. \\\\\"We only know this now because the seals were diving hundreds of meters below those depths.\\\\\" In extreme cases, he says, they dove more than 1,000 meters (3,281 feet) deeper than what scientists thought was the bottom of the ocean. The data, or information, from the dives also revealed new underwater features. They revealed new troughs. A trough is a long, wide and deep sunken area in the ocean floor. Thanks to the seals, the scientists also found a deep canyon near the Vanderford Glacier. A glacier is a slow-moving river of ice hundreds or thousands of meters deep. Observations Help Scientists Measure Melt Rates The observations collected from the seals are helping scientists better understand the shape of the ocean floor, especially where there are channels for warm water to access ice shelf cavities, said McMahon. Ice shelves are floating pieces of ice. They extend from grounded glaciers on land. Sometimes, empty holes known as cavities form on the underside of ice shelves. The cavities allow warm water to reach and melt more of the ice. \\\\\"This knowledge is essential for scientists trying to measure ice sheet melt rates,\\\\\" McMahon said. An ice sheet, also known as a continental glacier, is a chunk of glacier ice that covers the land surrounding it and is greater than 50,000 kilometers (20,000 miles) wide. The East Antarctic ice sheet is particularly important as it locks in more than 52 meters (171 feet) of global sea level rise. Sea level rise is a measurement of how fast our planet is changing. As global temperature goes up, ice trapped on land begins to melt, and sea level rises. Water also expands as its temperature increases. \\\\\"As the climate changes, greater intrusions of warm water into the shelf cavities are more likely,\\\\\" Hindell said. Data from satellite-tagged seals can help scientists understand this process. It can help them figure out exactly where water is coming into contact with the bottom of ice shelves.\"], \"model\": \"text-embedding-ada-002\", \"encoding_format\": \"base64\"}' message='Post details'\n",
      "DEBUG:urllib3.connectionpool:https://api.openai.com:443 \"POST /v1/embeddings HTTP/1.1\" 200 None\n",
      "DEBUG:openai:message='OpenAI API response' path=https://api.openai.com/v1/embeddings processing_ms=54 request_id=52832edc2ef44aa3fd18df22e4a9e581 response_code=200\n",
      "DEBUG:llama_index.node_parser.node_utils:> Adding chunk: This article is available at 5 reading levels a...\n",
      "DEBUG:openai:message='Request to OpenAI API' method=post path=https://api.openai.com/v1/embeddings\n",
      "DEBUG:openai:api_version=None data='{\"input\": [\"page_label: 3 file_name: clever-seals-dive-deep-2001041616-article_only.pdf  This article is available at 5 reading levels at https://newsela.com.Hindell said that this data will help scientists study many factors that affect our future oceans and climate.\"], \"model\": \"text-embedding-ada-002\", \"encoding_format\": \"base64\"}' message='Post details'\n",
      "DEBUG:urllib3.connectionpool:https://api.openai.com:443 \"POST /v1/embeddings HTTP/1.1\" 200 None\n",
      "DEBUG:openai:message='OpenAI API response' path=https://api.openai.com/v1/embeddings processing_ms=35 request_id=cb9580fbed1c01b64930aa3943d86e96 response_code=200\n",
      "DEBUG:llama_index.node_parser.node_utils:> Adding chunk: This article is available at 5 reading levels a...\n",
      "DEBUG:openai:message='Request to OpenAI API' method=post path=https://api.openai.com/v1/embeddings\n",
      "DEBUG:openai:api_version=None data='{\"input\": [\"page_label: 1 file_name: hamilton-roblox-2001041877-article_only.pdf  This article is available at 5 reading levels at https://newsela.com.If you\\\\u2019ve ever wanted to be in \\\\u201cHamilton,\\\\u201d you can now do so \\\\u2014 on Roblox This screenshot provided by Super League shows game avatars from the \\\\\"Hamilton\\\\\" simulator for Roblox. Photo: Super League/AP  Photo: Super League/AP The Broadway musical \\\\\"Hamilton\\\\\" is an innovative stage show and a huge hit. So when it landed on the popular online game Roblox, something entirely new began. It started an immersive online environment for a new generation. \\\\\"\\'Hamilton\\' has global recognition. Roblox has 66 million daily active users from all around the world. What a perfect match,\\\\\" said Matt Edelman, president and chief commercial officer for Super League, which designed and built the online experience with Small World Games. In the \\\\\"Hamilton\\\\\" simulator, players use their own avatars as they rub shoulders with the musical\\'s characters and negotiate through 10 levels set during the Revolutionary War. It starts at the New York docks and the goal is to free the city from British rule. Appropriately, the music- filled game requires no real money from players.By Associated Press, adapted by Newsela staf f on 09.24.23 Word Count 880 Level 1130L\"], \"model\": \"text-embedding-ada-002\", \"encoding_format\": \"base64\"}' message='Post details'\n",
      "DEBUG:urllib3.connectionpool:https://api.openai.com:443 \"POST /v1/embeddings HTTP/1.1\" 200 None\n",
      "DEBUG:openai:message='OpenAI API response' path=https://api.openai.com/v1/embeddings processing_ms=45 request_id=939de5053cc02ed8e273b47338db7ff4 response_code=200\n",
      "DEBUG:llama_index.node_parser.node_utils:> Adding chunk: This article is available at 5 reading levels a...\n",
      "DEBUG:openai:message='Request to OpenAI API' method=post path=https://api.openai.com/v1/embeddings\n",
      "DEBUG:openai:api_version=None data='{\"input\": [\"page_label: 2 file_name: hamilton-roblox-2001041877-article_only.pdf  This article is available at 5 reading levels at https://newsela.com.Edelman says the simulator was intended to be a fun experience for Roblox users. In creating it, he says they also introduced users to \\\\\"Hamilton\\\\\" if they didn\\'t already know it and inspired passion in those who were already fans. The game has the blessing of writer-composer Lin-Manuel Miranda. His blockbuster musical charts the rise and fall of statesman Alexander Hamilton and stresses his orphan, immigrant roots as well as his tragic end. Hamilton died in a duel with Aaron Burr, who was vice president of the United States at the time. Songs From The Musical Defeat Enemies Roblox is the largest immersive gaming platform on the planet. Businesses like Mattel, the NFL and Cirque du Soleil have all planted a flag there, as have fashion labels like Vans, Ralph Lauren, Nike and Gucci. \\\\\"If you are an intellectual property owner and you want to connect to the younger generations \\\\u2014 people really under 25 and particularly under 18 \\\\u2014 that\\'s where they socialize. That\\'s where they learn. More than half of Gen Z expects to discover a brand for the first time in an immersive space,\\\\\" Edelman says. Intellectual property is a legal category for an idea or work that one creates or invents and is then able to legally own. Hamilton is a simulator game, meaning it mimics activities a person would do in the real world. The \\\\\"Hamilton\\\\\" simulator players assemble a squad from characters in the musical to confront the redcoats, or the British army. Victories earn coins, which can be used to better arm companions as stronger enemies lurk. The 10 settings include a tavern, George Washington\\'s office, town squares, the ballroom where Hamilton and his wife, Angelica Schuyler, fall in love and the Battle of Yorktown. Each level has songs from the musical, including \\\\\"Guns and Ships,\\\\\" \\\\\"You\\'ll Be Back\\\\\" and \\\\\"The Schuyler Sisters.\\\\\" The songs are also used as a sort of sonic laser to wear down and defeat enemies. \\\\\"For us, being able to allow the player to connect to the characters and the music was really important. And that really inspired the general approach to the gameplay,\\\\\" Edelman says. \\\\\"It Has That Feel Of Belonging Everywhere\\\\\" The simulator currently ends around the midpoint of the musical, with British rule defeated and a nascent country needing its Founders to guide it into becoming a nation of laws. Edelman says the next step is to expand the gameplay. Each scene is carefully realized, with ceremonial swords, candles burning, flowers, artwork, sandbags and smoke. David Korins, who designed \\\\\"Hamilton\\\\\" for the stage, consulted on the look of the simulator and offered his tweaks. There are also Easter eggs, or hidden messages in the game, such as a scene in the Public Theater. That\\'s a nod to the off-Broadway space where \\\\\"Hamilton\\\\\" premiered. Edelman says that \\\\\"Hamilton\\\\\" has a timeless feel and that\\'s what makes it successful in the Roblox world. \\\\\"It has that innate feel of belonging everywhere,\\\\\" he also says. The genesis of the idea came from Maggie Brohn, the executive producer for \\\\\"Hamilton\\\\\" worldwide and chief operating officer of Adventureland LCC, the lead producer for \\\\\"Hamilton\\\\\"\"], \"model\": \"text-embedding-ada-002\", \"encoding_format\": \"base64\"}' message='Post details'\n",
      "DEBUG:urllib3.connectionpool:https://api.openai.com:443 \"POST /v1/embeddings HTTP/1.1\" 200 None\n",
      "DEBUG:openai:message='OpenAI API response' path=https://api.openai.com/v1/embeddings processing_ms=47 request_id=18ab385a86d4c747e8fe336691efad37 response_code=200\n",
      "DEBUG:llama_index.node_parser.node_utils:> Adding chunk: This article is available at 5 reading levels a...\n",
      "DEBUG:openai:message='Request to OpenAI API' method=post path=https://api.openai.com/v1/embeddings\n",
      "DEBUG:openai:api_version=None data='{\"input\": [\"page_label: 3 file_name: hamilton-roblox-2001041877-article_only.pdf  This article is available at 5 reading levels at https://newsela.com.and other Broadway shows. She had been pondering a marriage between the musical and a game maker, eventually turning to Edelman, her brother, for advice because he knew the perfect platform. \\\\\"My kids during COVID were glued to Roblox,\\\\\" Brohn says. \\\\\"They became our test group as we\\'ve been going through this.\\\\\" Creators Hope Game W ill Attract Newcomers The hardest part was taking an award-winning straightforward narrative and turning it into an engaging, interactive experience. The breakthrough came when it was conceived as a simulator, one of the most popular Roblox genres. Super League and \\\\\"Hamilton\\\\\" creators suspect their simulator will attract some visitors who have never heard of the musical. They hope newcomers will get caught in its gravitational force. The cast album was similarly a hit with people who hadn\\'t yet seen the show. Edelman says it is not easy to move a piece of intellectual property like a Broadway musical into a new medium. However, the impact on both fans and those unfamiliar with \\\\\"Hamilton\\\\\" is clear. \\\\\"The music brought people to \\'Hamilton\\' in some cases before the actual production of the show brought them there,\\\\\" says Edelman. \\\\\"I don\\'t think this will be any different if we achieve our primary goal, which is to make this a fun gameplay experience that attracts the Roblox community.\\\\\"\"], \"model\": \"text-embedding-ada-002\", \"encoding_format\": \"base64\"}' message='Post details'\n",
      "DEBUG:urllib3.connectionpool:https://api.openai.com:443 \"POST /v1/embeddings HTTP/1.1\" 200 None\n",
      "DEBUG:openai:message='OpenAI API response' path=https://api.openai.com/v1/embeddings processing_ms=36 request_id=aac4e75f0eafdaf292a55f7d4803fb12 response_code=200\n"
     ]
    }
   ],
   "source": [
    "from llama_index import VectorStoreIndex\n",
    "\n",
    "# 空のインデックスを作成\n",
    "index = VectorStoreIndex([])\n",
    "\n",
    "# ドキュメントを追加\n",
    "for doc in documents:\n",
    "    index.insert(doc)"
   ]
  },
  {
   "cell_type": "markdown",
   "metadata": {},
   "source": [
    "### Memo：ノード(Node)とは\n",
    "「LlamaIndex」内のデータの単位であり、ソースドキュメントの「チャンク」を表す。<br>\n",
    "（参考： [LlamaIndex v0.7 のしくみとカスタマイズ](https://note.com/npaka/n/n27a36f784fb3) ）"
   ]
  },
  {
   "cell_type": "markdown",
   "metadata": {},
   "source": [
    "### Memo：LlamaIndexのインデックスの種類\n",
    "- ベクトルストアインデックス（VectorStoreIndexなど）<br>\n",
    "各ノードと対応する埋め込み表現（embedding）をベクトルストアに格納するインデックス\n",
    "\n",
    "\n",
    "- リストインデックス（ListIndex）<br>\n",
    "ノードをリスト構造で格納するインデックス\n",
    "\n",
    "\n",
    "- ツリーインデックス（TreeIndex）<br>\n",
    "一連のノード（リーフノード）で階層ツリーを構築するインデックス\n",
    "\n",
    "\n",
    "- キーワードテーブルインデックス（KeywordTableIndexなど）<br>\n",
    "各ノードからキーワードを抽出し、各キーワードから対応するノードへのリンクを構築するインデックス\n",
    "\n",
    "\n",
    "その他の参考：<br>\n",
    "[LlamaIndexを完全に理解するチュートリアル その１：処理の概念や流れを理解する基礎編（v0.7.9対応）](https://dev.classmethod.jp/articles/llamaindex-tutorial-001-overview-v0-7-9/#toc-9)"
   ]
  },
  {
   "cell_type": "code",
   "execution_count": 12,
   "metadata": {},
   "outputs": [
    {
     "data": {
      "text/plain": [
       "'他のパラメータ（node_parserなど）も入力しないとエラーとなるためコメントアウト'"
      ]
     },
     "execution_count": 12,
     "metadata": {},
     "output_type": "execute_result"
    }
   ],
   "source": [
    "from llama_index import VectorStoreIndex, ServiceContext, LLMPredictor, PromptHelper\n",
    "from llama_index.embeddings.openai import OpenAIEmbedding\n",
    "from langchain.chat_models import ChatOpenAI\n",
    "\n",
    "# llm_predictor: 使用するLLMのカスタマイズ\n",
    "# デフォルトは\"text-davinci-003\"\n",
    "llm_predictor = LLMPredictor(llm=ChatOpenAI(\n",
    "    temperature=0,\n",
    "    model_name=\"gpt-3.5-turbo\",\n",
    "))\n",
    "\n",
    "# prompt_helper: チャンク分割ルールのカスタマイズ\n",
    "# デフォルトは以下の通り\n",
    "prompt_helper = PromptHelper(\n",
    "    # LLM入力の最大トークン数\n",
    "    context_window = 4097,\n",
    "    # LLM出力の最大トークン数\n",
    "    num_output = 256,\n",
    "    # チャンクオーバーラップ（チャンクが前後のチャンクと一定量のテキストを重複させる設定）の割合\n",
    "    chunk_overlap_ratio = 0.1,\n",
    ")\n",
    "\n",
    "# embed_model: 埋め込みモデルのカスタマイズ\n",
    "# デフォルトは\"text-embedding-ada-002\"（以下の通り）\n",
    "embed_model = OpenAIEmbedding()\n",
    "\n",
    "# service_contextの設定\n",
    "\"\"\"他のパラメータ（node_parserなど）も入力しないとエラーとなるためコメントアウト\"\"\"\n",
    "# service_context = ServiceContext(\n",
    "#     llm_predictor=llm_predictor,\n",
    "#     prompt_helper=prompt_helper,\n",
    "#     embed_model=embed_model,\n",
    "# )\n",
    "\n",
    "# インデックスの作成\n",
    "# index = VectorStoreIndex.from_documents(documents, service_context=service_context)"
   ]
  },
  {
   "cell_type": "code",
   "execution_count": 15,
   "metadata": {},
   "outputs": [],
   "source": [
    "# クエリエンジンの作成\n",
    "query_engine = index.as_query_engine()"
   ]
  },
  {
   "cell_type": "code",
   "execution_count": 17,
   "metadata": {},
   "outputs": [
    {
     "name": "stdout",
     "output_type": "stream",
     "text": [
      "DEBUG:openai:message='Request to OpenAI API' method=post path=https://api.openai.com/v1/embeddings\n",
      "DEBUG:openai:api_version=None data='{\"input\": [\"What is Hamilton? Please explain it to me shortly.\"], \"model\": \"text-embedding-ada-002\", \"encoding_format\": \"base64\"}' message='Post details'\n",
      "DEBUG:urllib3.connectionpool:https://api.openai.com:443 \"POST /v1/embeddings HTTP/1.1\" 200 None\n",
      "DEBUG:openai:message='OpenAI API response' path=https://api.openai.com/v1/embeddings processing_ms=18 request_id=d62deba9ea6f04a6924dafcd1e53dc72 response_code=200\n",
      "DEBUG:llama_index.indices.utils:> Top 2 nodes:\n",
      "> [Node 7b9a4753-3b45-48bd-aef9-db2e62464740] [Similarity score:             0.797944] This article is available at 5 reading levels at https://newsela.com.Edelman says the simulator w...\n",
      "> [Node 5c43e23e-26a7-4d7d-9284-205c1a14ef8b] [Similarity score:             0.796045] This article is available at 5 reading levels at https://newsela.com.If you’ve ever wanted to be ...\n",
      "DEBUG:openai:message='Request to OpenAI API' method=post path=https://api.openai.com/v1/chat/completions\n",
      "DEBUG:openai:api_version=None data='{\"messages\": [{\"role\": \"system\", \"content\": \"You are an expert Q&A system that is trusted around the world.\\\\nAlways answer the query using the provided context information, and not prior knowledge.\\\\nSome rules to follow:\\\\n1. Never directly reference the given context in your answer.\\\\n2. Avoid statements like \\'Based on the context, ...\\' or \\'The context information ...\\' or anything along those lines.\"}, {\"role\": \"user\", \"content\": \"Context information is below.\\\\n---------------------\\\\npage_label: 2\\\\nfile_name: hamilton-roblox-2001041877-article_only.pdf\\\\n\\\\nThis article is available at 5 reading levels at https://newsela.com.Edelman says the simulator was intended to be a fun experience for Roblox users. In creating it, he\\\\nsays they also introduced users to \\\\\"Hamilton\\\\\" if they didn\\'t already know it and inspired passion in\\\\nthose who were already fans.\\\\nThe game has the blessing of writer-composer Lin-Manuel Miranda. His blockbuster musical\\\\ncharts the rise and fall of statesman Alexander Hamilton and stresses his orphan, immigrant roots\\\\nas well as his tragic end. Hamilton died in a duel with Aaron Burr, who was vice president of the\\\\nUnited States at the time.\\\\nSongs From The Musical Defeat Enemies\\\\nRoblox is the largest immersive gaming platform on the planet. Businesses like Mattel, the NFL\\\\nand Cirque du Soleil have all planted a flag there, as have fashion labels like Vans, Ralph Lauren,\\\\nNike and Gucci.\\\\n\\\\\"If you are an intellectual property owner and you want to connect to the younger generations \\\\u2014\\\\npeople really under 25 and particularly under 18 \\\\u2014 that\\'s where they socialize. That\\'s where they\\\\nlearn. More than half of Gen Z expects to discover a brand for the first time in an immersive\\\\nspace,\\\\\" Edelman says. Intellectual property is a legal category for an idea or work that one creates\\\\nor invents and is then able to legally own.\\\\nHamilton is a simulator game, meaning it mimics activities a person would do in the real world.\\\\nThe \\\\\"Hamilton\\\\\" simulator players assemble a squad from characters in the musical to confront the\\\\nredcoats, or the British army. Victories earn coins, which can be used to better arm companions as\\\\nstronger enemies lurk.\\\\nThe 10 settings include a tavern, George Washington\\'s office, town squares, the ballroom where\\\\nHamilton and his wife, Angelica Schuyler, fall in love and the Battle of Yorktown. Each level has\\\\nsongs from the musical, including \\\\\"Guns and Ships,\\\\\" \\\\\"You\\'ll Be Back\\\\\" and \\\\\"The Schuyler Sisters.\\\\\"\\\\nThe songs are also used as a sort of sonic laser to wear down and defeat enemies.\\\\n\\\\\"For us, being able to allow the player to connect to the characters and the music was really\\\\nimportant. And that really inspired the general approach to the gameplay,\\\\\" Edelman says.\\\\n\\\\\"It Has That Feel Of Belonging Everywhere\\\\\"\\\\nThe simulator currently ends around the midpoint of the musical, with British rule defeated and a\\\\nnascent country needing its Founders to guide it into becoming a nation of laws. Edelman says the\\\\nnext step is to expand the gameplay.\\\\nEach scene is carefully realized, with ceremonial swords, candles burning, flowers, artwork,\\\\nsandbags and smoke. David Korins, who designed \\\\\"Hamilton\\\\\" for the stage, consulted on the look\\\\nof the simulator and offered his tweaks. There are also Easter eggs, or hidden messages in the\\\\ngame, such as a scene in the Public Theater. That\\'s a nod to the off-Broadway space where\\\\n\\\\\"Hamilton\\\\\" premiered.\\\\nEdelman says that \\\\\"Hamilton\\\\\" has a timeless feel and that\\'s what makes it successful in the Roblox\\\\nworld. \\\\\"It has that innate feel of belonging everywhere,\\\\\" he also says.\\\\nThe genesis of the idea came from Maggie Brohn, the executive producer for \\\\\"Hamilton\\\\\"\\\\nworldwide and chief operating officer of Adventureland LCC, the lead producer for \\\\\"Hamilton\\\\\"\\\\n\\\\npage_label: 1\\\\nfile_name: hamilton-roblox-2001041877-article_only.pdf\\\\n\\\\nThis article is available at 5 reading levels at https://newsela.com.If you\\\\u2019ve ever wanted to be in \\\\u201cHamilton,\\\\u201d you\\\\ncan now do so \\\\u2014 on Roblox\\\\nThis screenshot provided by Super League shows game avatars from the \\\\\"Hamilton\\\\\" simulator for Roblox. Photo: Super League/AP  Photo:\\\\nSuper League/AP\\\\nThe Broadway musical \\\\\"Hamilton\\\\\" is an innovative stage show and a huge hit. So when it landed\\\\non the popular online game Roblox, something entirely new began. It started an immersive online\\\\nenvironment for a new generation.\\\\n\\\\\"\\'Hamilton\\' has global recognition. Roblox has 66 million daily active users from all around the\\\\nworld. What a perfect match,\\\\\" said Matt Edelman, president and chief commercial officer for\\\\nSuper League, which designed and built the online experience with Small World Games.\\\\nIn the \\\\\"Hamilton\\\\\" simulator, players use their own avatars as they rub shoulders with the\\\\nmusical\\'s characters and negotiate through 10 levels set during the Revolutionary War. It starts at\\\\nthe New York docks and the goal is to free the city from British rule. Appropriately, the music-\\\\nfilled game requires no real money from players.By Associated Press, adapted by Newsela staf f on 09.24.23\\\\nWord Count 880\\\\nLevel 1130L\\\\n---------------------\\\\nGiven the context information and not prior knowledge, answer the query.\\\\nQuery: What is Hamilton? Please explain it to me shortly.\\\\nAnswer: \"}], \"stream\": false, \"model\": \"gpt-3.5-turbo\", \"temperature\": 0.1}' message='Post details'\n",
      "DEBUG:urllib3.connectionpool:https://api.openai.com:443 \"POST /v1/chat/completions HTTP/1.1\" 200 None\n",
      "DEBUG:openai:message='OpenAI API response' path=https://api.openai.com/v1/chat/completions processing_ms=2539 request_id=2476afb808f6ef76d7200a2c2804fe4a response_code=200\n",
      "DEBUG:llama_index.llm_predictor.base:Hamilton is a popular Broadway musical that tells the story of Alexander Hamilton, a statesman and one of the Founding Fathers of the United States. The musical explores Hamilton's rise and fall, emphasizing his immigrant background and tragic end. It has gained global recognition and has now been adapted into a simulator game on the online platform Roblox, allowing players to interact with the characters and experience the Revolutionary War setting.\n",
      "---------------------------------\n",
      "Hamilton is a popular Broadway musical that tells the story of Alexander Hamilton, a statesman and one of the Founding Fathers of the United States. The musical explores Hamilton's rise and fall, emphasizing his immigrant background and tragic end. It has gained global recognition and has now been adapted into a simulator game on the online platform Roblox, allowing players to interact with the characters and experience the Revolutionary War setting.\n",
      "---------------------------------\n",
      "[NodeWithScore(node=TextNode(id_='7b9a4753-3b45-48bd-aef9-db2e62464740', embedding=None, metadata={'page_label': '2', 'file_name': 'hamilton-roblox-2001041877-article_only.pdf'}, excluded_embed_metadata_keys=[], excluded_llm_metadata_keys=[], relationships={<NodeRelationship.SOURCE: '1'>: RelatedNodeInfo(node_id='e7189244-abf4-443b-9a0b-f8d3b2566e4b', node_type=None, metadata={'page_label': '2', 'file_name': 'hamilton-roblox-2001041877-article_only.pdf'}, hash='2cdc3b8818a3709975f6268dd2c73c851b505d238048d235f6dcba9d81349d3d')}, hash='2cdc3b8818a3709975f6268dd2c73c851b505d238048d235f6dcba9d81349d3d', text='This article is available at 5 reading levels at https://newsela.com.Edelman says the simulator was intended to be a fun experience for Roblox users. In creating it, he\\nsays they also introduced users to \"Hamilton\" if they didn\\'t already know it and inspired passion in\\nthose who were already fans.\\nThe game has the blessing of writer-composer Lin-Manuel Miranda. His blockbuster musical\\ncharts the rise and fall of statesman Alexander Hamilton and stresses his orphan, immigrant roots\\nas well as his tragic end. Hamilton died in a duel with Aaron Burr, who was vice president of the\\nUnited States at the time.\\nSongs From The Musical Defeat Enemies\\nRoblox is the largest immersive gaming platform on the planet. Businesses like Mattel, the NFL\\nand Cirque du Soleil have all planted a flag there, as have fashion labels like Vans, Ralph Lauren,\\nNike and Gucci.\\n\"If you are an intellectual property owner and you want to connect to the younger generations —\\npeople really under 25 and particularly under 18 — that\\'s where they socialize. That\\'s where they\\nlearn. More than half of Gen Z expects to discover a brand for the first time in an immersive\\nspace,\" Edelman says. Intellectual property is a legal category for an idea or work that one creates\\nor invents and is then able to legally own.\\nHamilton is a simulator game, meaning it mimics activities a person would do in the real world.\\nThe \"Hamilton\" simulator players assemble a squad from characters in the musical to confront the\\nredcoats, or the British army. Victories earn coins, which can be used to better arm companions as\\nstronger enemies lurk.\\nThe 10 settings include a tavern, George Washington\\'s office, town squares, the ballroom where\\nHamilton and his wife, Angelica Schuyler, fall in love and the Battle of Yorktown. Each level has\\nsongs from the musical, including \"Guns and Ships,\" \"You\\'ll Be Back\" and \"The Schuyler Sisters.\"\\nThe songs are also used as a sort of sonic laser to wear down and defeat enemies.\\n\"For us, being able to allow the player to connect to the characters and the music was really\\nimportant. And that really inspired the general approach to the gameplay,\" Edelman says.\\n\"It Has That Feel Of Belonging Everywhere\"\\nThe simulator currently ends around the midpoint of the musical, with British rule defeated and a\\nnascent country needing its Founders to guide it into becoming a nation of laws. Edelman says the\\nnext step is to expand the gameplay.\\nEach scene is carefully realized, with ceremonial swords, candles burning, flowers, artwork,\\nsandbags and smoke. David Korins, who designed \"Hamilton\" for the stage, consulted on the look\\nof the simulator and offered his tweaks. There are also Easter eggs, or hidden messages in the\\ngame, such as a scene in the Public Theater. That\\'s a nod to the off-Broadway space where\\n\"Hamilton\" premiered.\\nEdelman says that \"Hamilton\" has a timeless feel and that\\'s what makes it successful in the Roblox\\nworld. \"It has that innate feel of belonging everywhere,\" he also says.\\nThe genesis of the idea came from Maggie Brohn, the executive producer for \"Hamilton\"\\nworldwide and chief operating officer of Adventureland LCC, the lead producer for \"Hamilton\"', start_char_idx=None, end_char_idx=None, text_template='{metadata_str}\\n\\n{content}', metadata_template='{key}: {value}', metadata_seperator='\\n'), score=0.7979441543041786), NodeWithScore(node=TextNode(id_='5c43e23e-26a7-4d7d-9284-205c1a14ef8b', embedding=None, metadata={'page_label': '1', 'file_name': 'hamilton-roblox-2001041877-article_only.pdf'}, excluded_embed_metadata_keys=[], excluded_llm_metadata_keys=[], relationships={<NodeRelationship.SOURCE: '1'>: RelatedNodeInfo(node_id='3598df74-9741-4465-a781-c0acee264e3e', node_type=None, metadata={'page_label': '1', 'file_name': 'hamilton-roblox-2001041877-article_only.pdf'}, hash='0a2dc3894b1cdb1b0cfde200218f189f5a35e2596ce3f077a258092e593f6252')}, hash='0a2dc3894b1cdb1b0cfde200218f189f5a35e2596ce3f077a258092e593f6252', text='This article is available at 5 reading levels at https://newsela.com.If you’ve ever wanted to be in “Hamilton,” you\\ncan now do so — on Roblox\\nThis screenshot provided by Super League shows game avatars from the \"Hamilton\" simulator for Roblox. Photo: Super League/AP  Photo:\\nSuper League/AP\\nThe Broadway musical \"Hamilton\" is an innovative stage show and a huge hit. So when it landed\\non the popular online game Roblox, something entirely new began. It started an immersive online\\nenvironment for a new generation.\\n\"\\'Hamilton\\' has global recognition. Roblox has 66 million daily active users from all around the\\nworld. What a perfect match,\" said Matt Edelman, president and chief commercial officer for\\nSuper League, which designed and built the online experience with Small World Games.\\nIn the \"Hamilton\" simulator, players use their own avatars as they rub shoulders with the\\nmusical\\'s characters and negotiate through 10 levels set during the Revolutionary War. It starts at\\nthe New York docks and the goal is to free the city from British rule. Appropriately, the music-\\nfilled game requires no real money from players.By Associated Press, adapted by Newsela staf f on 09.24.23\\nWord Count 880\\nLevel 1130L', start_char_idx=None, end_char_idx=None, text_template='{metadata_str}\\n\\n{content}', metadata_template='{key}: {value}', metadata_seperator='\\n'), score=0.7960454108537133)]\n"
     ]
    }
   ],
   "source": [
    "response = query_engine.query(\"What is Hamilton? Please explain it to me shortly.\")\n",
    "\n",
    "# response.response: 回答\n",
    "print('---------------------------------')\n",
    "print(response.response)\n",
    "\n",
    "# response.source_nodes: 回答を生成する際に利用したソース\n",
    "print('---------------------------------')\n",
    "print(response.source_nodes)"
   ]
  },
  {
   "cell_type": "code",
   "execution_count": null,
   "metadata": {},
   "outputs": [],
   "source": []
  }
 ],
 "metadata": {
  "kernelspec": {
   "display_name": "env",
   "language": "python",
   "name": "python3"
  },
  "language_info": {
   "codemirror_mode": {
    "name": "ipython",
    "version": 3
   },
   "file_extension": ".py",
   "mimetype": "text/x-python",
   "name": "python",
   "nbconvert_exporter": "python",
   "pygments_lexer": "ipython3",
   "version": "3.9.6"
  }
 },
 "nbformat": 4,
 "nbformat_minor": 2
}
