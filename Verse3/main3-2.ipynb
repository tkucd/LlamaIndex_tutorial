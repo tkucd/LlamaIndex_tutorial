{
 "cells": [
  {
   "cell_type": "code",
   "execution_count": 8,
   "metadata": {},
   "outputs": [],
   "source": [
    "from llama_hub.youtube_transcript import YoutubeTranscriptReader\n",
    "\n",
    "# YoutubeTranscriptReader: Youtube動画から字幕を取得するためのライブラリ\n",
    "loader = YoutubeTranscriptReader()\n",
    "\n",
    "# ドキュメントの読み込み\n",
    "url = \"https://www.youtube.com/watch?v=oc6RV5c1yd0\"\n",
    "documents = loader.load_data(ytlinks=[url])"
   ]
  },
  {
   "cell_type": "code",
   "execution_count": 9,
   "metadata": {},
   "outputs": [],
   "source": [
    "from llama_index import VectorStoreIndex\n",
    "\n",
    "# インデックスの作成\n",
    "index = VectorStoreIndex.from_documents(documents)"
   ]
  },
  {
   "cell_type": "code",
   "execution_count": 10,
   "metadata": {},
   "outputs": [],
   "source": [
    "# クエリエンジンの作成\n",
    "query_engine = index.as_query_engine()"
   ]
  },
  {
   "cell_type": "code",
   "execution_count": 11,
   "metadata": {},
   "outputs": [
    {
     "name": "stdout",
     "output_type": "stream",
     "text": [
      "この動画で伝えたいことは、OpenAIが最新のAIシステムであるGPT-4を開発したことです。GPT-4は、問題解決能力において画期的な進歩を遂げており、さまざまなタスクに対して有用な情報を提供することができます。また、GPT-4はテキストの読み取り、分析、生成においても高い能力を持ち、主要なプログラミング言語でのコードの作成も可能です。さらに、GPT-4は画像を入力として理解し、高度な方法で推論することができます。重要なことは、GPT-4の開発後、OpenAIが数ヶ月間にわたってその安全性と使用方法に合致するよう改良を行ったことです。GPT-4の持つ能力を継続的に向上させるために開発された手法は、私たちが皆を力づけるAIシステムに向けて取り組む際に役立つでしょう。\n"
     ]
    }
   ],
   "source": [
    "response = query_engine.query(\"この動画で伝えたいことは何ですか？日本語で答えてください。\")\n",
    "print(response)"
   ]
  },
  {
   "cell_type": "code",
   "execution_count": null,
   "metadata": {},
   "outputs": [],
   "source": []
  }
 ],
 "metadata": {
  "kernelspec": {
   "display_name": "env",
   "language": "python",
   "name": "python3"
  },
  "language_info": {
   "codemirror_mode": {
    "name": "ipython",
    "version": 3
   },
   "file_extension": ".py",
   "mimetype": "text/x-python",
   "name": "python",
   "nbconvert_exporter": "python",
   "pygments_lexer": "ipython3",
   "version": "3.9.6"
  }
 },
 "nbformat": 4,
 "nbformat_minor": 2
}
