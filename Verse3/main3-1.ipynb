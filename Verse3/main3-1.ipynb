{
 "cells": [
  {
   "cell_type": "code",
   "execution_count": 1,
   "metadata": {},
   "outputs": [],
   "source": [
    "from llama_index import download_loader\n",
    "\n",
    "# BeautifulSoup: HTMLおよびXMLファイルからデータを抽出するためのライブラリ\n",
    "BeautifulSoupWebReader = download_loader(\"BeautifulSoupWebReader\")\n",
    "loader = BeautifulSoupWebReader()\n",
    "\n",
    "# ドキュメントの読み込み\n",
    "url = \"https://openai.com/blog/planning-for-agi-and-beyond\"\n",
    "documents = loader.load_data(urls=[url])"
   ]
  },
  {
   "cell_type": "code",
   "execution_count": 2,
   "metadata": {},
   "outputs": [],
   "source": [
    "from llama_index import VectorStoreIndex\n",
    "\n",
    "# インデックスの作成\n",
    "index = VectorStoreIndex.from_documents(documents)"
   ]
  },
  {
   "cell_type": "code",
   "execution_count": 3,
   "metadata": {},
   "outputs": [],
   "source": [
    "# クエリエンジンの作成\n",
    "query_engine = index.as_query_engine()"
   ]
  },
  {
   "cell_type": "code",
   "execution_count": 4,
   "metadata": {},
   "outputs": [
    {
     "name": "stdout",
     "output_type": "stream",
     "text": [
      "このWebページで伝えたいことは、OpenAIが人類全体に利益をもたらすために、人工知能（AI）の一般的な知能（AGI）の計画とその先について考えていることです。彼らはAGIの開発が成功した場合、人類の繁栄を促進し、世界経済を活性化させ、科学的知識の新たな発見に貢献する可能性があると述べています。しかし、AGIには誤用や事故、社会的な混乱といった深刻なリスクも伴います。そのため、OpenAIはAGIの開発を永遠に停止することは不可能であり、代わりに社会とAGIの開発者が正しい方法を見つける必要があると考えています。彼らはAGIを人類の力を増幅させるものとし、利益やアクセス、ガバナンスが広く公平に共有されることを望んでいます。また、彼らはAIの展開に関する課題に対処するために、迅速な学習と慎重な反復のフィードバックループを重視しています。さらに、彼らはAIの使用が増えることで良い結果がもたらされると信じ、アイデアの多様性と個人の意思決定の力を重視しています。最終的には、彼らはAGIのガバナンス、利益の公平な分配、アクセスの公平な共有についてのグローバルな議論を望んでいます。\n"
     ]
    }
   ],
   "source": [
    "response = query_engine.query(\"このWebページで伝えたいことは何ですか？日本語で答えてください。\")\n",
    "print(response)"
   ]
  },
  {
   "cell_type": "code",
   "execution_count": null,
   "metadata": {},
   "outputs": [],
   "source": []
  }
 ],
 "metadata": {
  "kernelspec": {
   "display_name": "env",
   "language": "python",
   "name": "python3"
  },
  "language_info": {
   "codemirror_mode": {
    "name": "ipython",
    "version": 3
   },
   "file_extension": ".py",
   "mimetype": "text/x-python",
   "name": "python",
   "nbconvert_exporter": "python",
   "pygments_lexer": "ipython3",
   "version": "3.9.6"
  }
 },
 "nbformat": 4,
 "nbformat_minor": 2
}
