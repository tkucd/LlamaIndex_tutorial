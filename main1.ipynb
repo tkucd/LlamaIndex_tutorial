{
 "cells": [
  {
   "cell_type": "code",
   "execution_count": 2,
   "metadata": {},
   "outputs": [
    {
     "data": {
      "text/plain": [
       "True"
      ]
     },
     "execution_count": 2,
     "metadata": {},
     "output_type": "execute_result"
    }
   ],
   "source": [
    "import dotenv\n",
    "\n",
    "dotenv.load_dotenv()"
   ]
  },
  {
   "cell_type": "code",
   "execution_count": 4,
   "metadata": {},
   "outputs": [],
   "source": [
    "import logging\n",
    "import sys\n",
    "\n",
    "logging.basicConfig(\n",
    "    stream=sys.stdout,\n",
    "    # DEBUG: デバッグ用に詳細なログを出力する\n",
    "    level=logging.DEBUG,\n",
    "    force=True,\n",
    ")"
   ]
  },
  {
   "cell_type": "code",
   "execution_count": 5,
   "metadata": {},
   "outputs": [
    {
     "name": "stdout",
     "output_type": "stream",
     "text": [
      "DEBUG:llama_index.readers.file.base:> [SimpleDirectoryReader] Total files added: 2\n"
     ]
    }
   ],
   "source": [
    "from llama_index import SimpleDirectoryReader\n",
    "\n",
    "# ドキュメントの読み込み\n",
    "path = \"./data\"\n",
    "documents = SimpleDirectoryReader(path).load_data()"
   ]
  },
  {
   "cell_type": "code",
   "execution_count": 8,
   "metadata": {},
   "outputs": [
    {
     "name": "stdout",
     "output_type": "stream",
     "text": [
      "DEBUG:llama_index.node_parser.node_utils:> Adding chunk: This article is available at 5 reading levels a...\n",
      "DEBUG:llama_index.node_parser.node_utils:> Adding chunk: This article is available at 5 reading levels a...\n",
      "DEBUG:llama_index.node_parser.node_utils:> Adding chunk: This article is available at 5 reading levels a...\n",
      "DEBUG:llama_index.node_parser.node_utils:> Adding chunk: This article is available at 5 reading levels a...\n",
      "DEBUG:llama_index.node_parser.node_utils:> Adding chunk: This article is available at 5 reading levels a...\n",
      "DEBUG:llama_index.node_parser.node_utils:> Adding chunk: This article is available at 5 reading levels a...\n",
      "DEBUG:openai:message='Request to OpenAI API' method=post path=https://api.openai.com/v1/embeddings\n",
      "DEBUG:openai:api_version=None data='{\"input\": [\"page_label: 1 file_name: clever-seals-dive-deep-2001041616-article_only.pdf  This article is available at 5 reading levels at https://newsela.com.How deep is the sea? These clever seals know and are happily sharing their secrets With tracking devices attached to their heads, seals can provide us with more information about the ocean floor when they deep dive. Photo: Clive R. McMahon/IMOS/SIMS Photo: Clive R. McMahon/IMOS/SIMS Seals are helping scientists to better understand the deep ocean. Clive McMahon works on an elephant seal tagging project at the University of Tasmania in Australia. He also works with the Sydney Institute of Marine Science (SIMS). McMahon said that deep-diving seals can provide scientists with a wealth of information on the structure of the ocean floor. To gather this information, McMahon and his team attached small satellite-linked devices to seals. (A satellite is a machine that orbits the planet. Some satellites send radio signals that can be used to track things down on Earth.) The devices took measurements of temperature and depth as the seals swam. McMahon\\'s team tracked more than 500,000 individual seal dives beneath the East Antarctic continental shelf. A continental shelf is the edge of a continent that lies under the ocean.By Australian Geographic, adapted by Newsela staf f on 09.17.23 Word Count 662 Level 1040L\", \"page_label: 2 file_name: clever-seals-dive-deep-2001041616-article_only.pdf  This article is available at 5 reading levels at https://newsela.com. Image 1. The satellite-linked devices measure water conditions as the seals swim at deep depths in the ocean. Photo: Clive R. McMahon/IMOS/SIMSContinents are the seven main divisions of land on Earth. Seals in the East Antarctic continental shelf region have been equipped with satellite-linked devices since 2004. \\\\\"Only a small part of the Antarctic continental shelf was surveyed by ships in the past,\\\\\" McMahon said. \\\\\"So the information available about this area is sparse.\\\\\" But seals are helping scientists fill in the pieces to this puzzle. In July 2023, McMahon and his team published a study about their work with deep-diving seals. The study was published in a scientific journal. Seals Prove Previous Depth Estimates W rong Information from seal dives is helping scientists understand how the ocean affects Antarctica\\'s role in global climate. Climate refers to weather patterns over a long period of time, usually 30 years or more. \\\\\"We found in some regions that more than 25 percent of previous estimates of the ocean depths were wrong,\\\\\" said Mark Hindell, who also worked on the study. \\\\\"We only know this now because the seals were diving hundreds of meters below those depths.\\\\\" In extreme cases, he says, they dove more than 1,000 meters (3,281 feet) deeper than what scientists thought was the bottom of the ocean. The data, or information, from the dives also revealed new underwater features. They revealed new troughs. A trough is a long, wide and deep sunken area in the ocean floor. Thanks to the seals, the scientists also found a deep canyon near the Vanderford Glacier. A glacier is a slow-moving river of ice hundreds or thousands of meters deep. Observations Help Scientists Measure Melt Rates The observations collected from the seals are helping scientists better understand the shape of the ocean floor, especially where there are channels for warm water to access ice shelf cavities, said McMahon. Ice shelves are floating pieces of ice. They extend from grounded glaciers on land. Sometimes, empty holes known as cavities form on the underside of ice shelves. The cavities allow warm water to reach and melt more of the ice. \\\\\"This knowledge is essential for scientists trying to measure ice sheet melt rates,\\\\\" McMahon said. An ice sheet, also known as a continental glacier, is a chunk of glacier ice that covers the land surrounding it and is greater than 50,000 kilometers (20,000 miles) wide. The East Antarctic ice sheet is particularly important as it locks in more than 52 meters (171 feet) of global sea level rise. Sea level rise is a measurement of how fast our planet is changing. As global temperature goes up, ice trapped on land begins to melt, and sea level rises. Water also expands as its temperature increases. \\\\\"As the climate changes, greater intrusions of warm water into the shelf cavities are more likely,\\\\\" Hindell said. Data from satellite-tagged seals can help scientists understand this process. It can help them figure out exactly where water is coming into contact with the bottom of ice shelves.\", \"page_label: 3 file_name: clever-seals-dive-deep-2001041616-article_only.pdf  This article is available at 5 reading levels at https://newsela.com.Hindell said that this data will help scientists study many factors that affect our future oceans and climate.\", \"page_label: 1 file_name: hamilton-roblox-2001041877-article_only.pdf  This article is available at 5 reading levels at https://newsela.com.If you\\\\u2019ve ever wanted to be in \\\\u201cHamilton,\\\\u201d you can now do so \\\\u2014 on Roblox This screenshot provided by Super League shows game avatars from the \\\\\"Hamilton\\\\\" simulator for Roblox. Photo: Super League/AP  Photo: Super League/AP The Broadway musical \\\\\"Hamilton\\\\\" is an innovative stage show and a huge hit. So when it landed on the popular online game Roblox, something entirely new began. It started an immersive online environment for a new generation. \\\\\"\\'Hamilton\\' has global recognition. Roblox has 66 million daily active users from all around the world. What a perfect match,\\\\\" said Matt Edelman, president and chief commercial officer for Super League, which designed and built the online experience with Small World Games. In the \\\\\"Hamilton\\\\\" simulator, players use their own avatars as they rub shoulders with the musical\\'s characters and negotiate through 10 levels set during the Revolutionary War. It starts at the New York docks and the goal is to free the city from British rule. Appropriately, the music- filled game requires no real money from players.By Associated Press, adapted by Newsela staf f on 09.24.23 Word Count 880 Level 1130L\", \"page_label: 2 file_name: hamilton-roblox-2001041877-article_only.pdf  This article is available at 5 reading levels at https://newsela.com.Edelman says the simulator was intended to be a fun experience for Roblox users. In creating it, he says they also introduced users to \\\\\"Hamilton\\\\\" if they didn\\'t already know it and inspired passion in those who were already fans. The game has the blessing of writer-composer Lin-Manuel Miranda. His blockbuster musical charts the rise and fall of statesman Alexander Hamilton and stresses his orphan, immigrant roots as well as his tragic end. Hamilton died in a duel with Aaron Burr, who was vice president of the United States at the time. Songs From The Musical Defeat Enemies Roblox is the largest immersive gaming platform on the planet. Businesses like Mattel, the NFL and Cirque du Soleil have all planted a flag there, as have fashion labels like Vans, Ralph Lauren, Nike and Gucci. \\\\\"If you are an intellectual property owner and you want to connect to the younger generations \\\\u2014 people really under 25 and particularly under 18 \\\\u2014 that\\'s where they socialize. That\\'s where they learn. More than half of Gen Z expects to discover a brand for the first time in an immersive space,\\\\\" Edelman says. Intellectual property is a legal category for an idea or work that one creates or invents and is then able to legally own. Hamilton is a simulator game, meaning it mimics activities a person would do in the real world. The \\\\\"Hamilton\\\\\" simulator players assemble a squad from characters in the musical to confront the redcoats, or the British army. Victories earn coins, which can be used to better arm companions as stronger enemies lurk. The 10 settings include a tavern, George Washington\\'s office, town squares, the ballroom where Hamilton and his wife, Angelica Schuyler, fall in love and the Battle of Yorktown. Each level has songs from the musical, including \\\\\"Guns and Ships,\\\\\" \\\\\"You\\'ll Be Back\\\\\" and \\\\\"The Schuyler Sisters.\\\\\" The songs are also used as a sort of sonic laser to wear down and defeat enemies. \\\\\"For us, being able to allow the player to connect to the characters and the music was really important. And that really inspired the general approach to the gameplay,\\\\\" Edelman says. \\\\\"It Has That Feel Of Belonging Everywhere\\\\\" The simulator currently ends around the midpoint of the musical, with British rule defeated and a nascent country needing its Founders to guide it into becoming a nation of laws. Edelman says the next step is to expand the gameplay. Each scene is carefully realized, with ceremonial swords, candles burning, flowers, artwork, sandbags and smoke. David Korins, who designed \\\\\"Hamilton\\\\\" for the stage, consulted on the look of the simulator and offered his tweaks. There are also Easter eggs, or hidden messages in the game, such as a scene in the Public Theater. That\\'s a nod to the off-Broadway space where \\\\\"Hamilton\\\\\" premiered. Edelman says that \\\\\"Hamilton\\\\\" has a timeless feel and that\\'s what makes it successful in the Roblox world. \\\\\"It has that innate feel of belonging everywhere,\\\\\" he also says. The genesis of the idea came from Maggie Brohn, the executive producer for \\\\\"Hamilton\\\\\" worldwide and chief operating officer of Adventureland LCC, the lead producer for \\\\\"Hamilton\\\\\"\", \"page_label: 3 file_name: hamilton-roblox-2001041877-article_only.pdf  This article is available at 5 reading levels at https://newsela.com.and other Broadway shows. She had been pondering a marriage between the musical and a game maker, eventually turning to Edelman, her brother, for advice because he knew the perfect platform. \\\\\"My kids during COVID were glued to Roblox,\\\\\" Brohn says. \\\\\"They became our test group as we\\'ve been going through this.\\\\\" Creators Hope Game W ill Attract Newcomers The hardest part was taking an award-winning straightforward narrative and turning it into an engaging, interactive experience. The breakthrough came when it was conceived as a simulator, one of the most popular Roblox genres. Super League and \\\\\"Hamilton\\\\\" creators suspect their simulator will attract some visitors who have never heard of the musical. They hope newcomers will get caught in its gravitational force. The cast album was similarly a hit with people who hadn\\'t yet seen the show. Edelman says it is not easy to move a piece of intellectual property like a Broadway musical into a new medium. However, the impact on both fans and those unfamiliar with \\\\\"Hamilton\\\\\" is clear. \\\\\"The music brought people to \\'Hamilton\\' in some cases before the actual production of the show brought them there,\\\\\" says Edelman. \\\\\"I don\\'t think this will be any different if we achieve our primary goal, which is to make this a fun gameplay experience that attracts the Roblox community.\\\\\"\"], \"model\": \"text-embedding-ada-002\", \"encoding_format\": \"base64\"}' message='Post details'\n",
      "DEBUG:urllib3.connectionpool:https://api.openai.com:443 \"POST /v1/embeddings HTTP/1.1\" 200 None\n",
      "DEBUG:openai:message='OpenAI API response' path=https://api.openai.com/v1/embeddings processing_ms=92 request_id=4055ee5d69f101aaf35552b1b56b7b8d response_code=200\n"
     ]
    }
   ],
   "source": [
    "from llama_index import GPTVectorStoreIndex\n",
    "\n",
    "# インデックス: データベースにおける目的の情報を効率的に取得するための索引\n",
    "# GPTVectorStoreIndex: 辞書型(dict)でデータを保持するインデックス\n",
    "index = GPTVectorStoreIndex.from_documents(documents)"
   ]
  },
  {
   "cell_type": "markdown",
   "metadata": {},
   "source": [
    "### Memo\n",
    "LLMには最大プロンプト長があるため、長いテキストでは処理できない。<br>\n",
    "そこで「チャンク」と呼ばれる短いテキストに分割されて処理されます。"
   ]
  },
  {
   "cell_type": "code",
   "execution_count": 9,
   "metadata": {},
   "outputs": [],
   "source": [
    "# クエリエンジン: ユーザ入力に関連する情報をインデックスから取得し、ユーザ入力と取得した情報を元に応答を生成する\n",
    "query_engine = index.as_query_engine()"
   ]
  },
  {
   "cell_type": "code",
   "execution_count": 12,
   "metadata": {},
   "outputs": [
    {
     "name": "stdout",
     "output_type": "stream",
     "text": [
      "DEBUG:openai:message='Request to OpenAI API' method=post path=https://api.openai.com/v1/embeddings\n",
      "DEBUG:openai:api_version=None data='{\"input\": [\"What is Hamilton? Please explain it to me shortly.\"], \"model\": \"text-embedding-ada-002\", \"encoding_format\": \"base64\"}' message='Post details'\n",
      "DEBUG:urllib3.connectionpool:https://api.openai.com:443 \"POST /v1/embeddings HTTP/1.1\" 200 None\n",
      "DEBUG:openai:message='OpenAI API response' path=https://api.openai.com/v1/embeddings processing_ms=25 request_id=ebb51f3e44f0c2779295b8fa3751df24 response_code=200\n",
      "DEBUG:llama_index.indices.utils:> Top 2 nodes:\n",
      "> [Node b92fbcdf-69e9-43b7-8cc8-7204307bbed4] [Similarity score:             0.797915] This article is available at 5 reading levels at https://newsela.com.Edelman says the simulator w...\n",
      "> [Node 3313fc6f-4723-40a6-ac99-9c4084c4ac1d] [Similarity score:             0.796045] This article is available at 5 reading levels at https://newsela.com.If you’ve ever wanted to be ...\n",
      "DEBUG:openai:message='Request to OpenAI API' method=post path=https://api.openai.com/v1/chat/completions\n",
      "DEBUG:openai:api_version=None data='{\"messages\": [{\"role\": \"system\", \"content\": \"You are an expert Q&A system that is trusted around the world.\\\\nAlways answer the query using the provided context information, and not prior knowledge.\\\\nSome rules to follow:\\\\n1. Never directly reference the given context in your answer.\\\\n2. Avoid statements like \\'Based on the context, ...\\' or \\'The context information ...\\' or anything along those lines.\"}, {\"role\": \"user\", \"content\": \"Context information is below.\\\\n---------------------\\\\npage_label: 2\\\\nfile_name: hamilton-roblox-2001041877-article_only.pdf\\\\n\\\\nThis article is available at 5 reading levels at https://newsela.com.Edelman says the simulator was intended to be a fun experience for Roblox users. In creating it, he\\\\nsays they also introduced users to \\\\\"Hamilton\\\\\" if they didn\\'t already know it and inspired passion in\\\\nthose who were already fans.\\\\nThe game has the blessing of writer-composer Lin-Manuel Miranda. His blockbuster musical\\\\ncharts the rise and fall of statesman Alexander Hamilton and stresses his orphan, immigrant roots\\\\nas well as his tragic end. Hamilton died in a duel with Aaron Burr, who was vice president of the\\\\nUnited States at the time.\\\\nSongs From The Musical Defeat Enemies\\\\nRoblox is the largest immersive gaming platform on the planet. Businesses like Mattel, the NFL\\\\nand Cirque du Soleil have all planted a flag there, as have fashion labels like Vans, Ralph Lauren,\\\\nNike and Gucci.\\\\n\\\\\"If you are an intellectual property owner and you want to connect to the younger generations \\\\u2014\\\\npeople really under 25 and particularly under 18 \\\\u2014 that\\'s where they socialize. That\\'s where they\\\\nlearn. More than half of Gen Z expects to discover a brand for the first time in an immersive\\\\nspace,\\\\\" Edelman says. Intellectual property is a legal category for an idea or work that one creates\\\\nor invents and is then able to legally own.\\\\nHamilton is a simulator game, meaning it mimics activities a person would do in the real world.\\\\nThe \\\\\"Hamilton\\\\\" simulator players assemble a squad from characters in the musical to confront the\\\\nredcoats, or the British army. Victories earn coins, which can be used to better arm companions as\\\\nstronger enemies lurk.\\\\nThe 10 settings include a tavern, George Washington\\'s office, town squares, the ballroom where\\\\nHamilton and his wife, Angelica Schuyler, fall in love and the Battle of Yorktown. Each level has\\\\nsongs from the musical, including \\\\\"Guns and Ships,\\\\\" \\\\\"You\\'ll Be Back\\\\\" and \\\\\"The Schuyler Sisters.\\\\\"\\\\nThe songs are also used as a sort of sonic laser to wear down and defeat enemies.\\\\n\\\\\"For us, being able to allow the player to connect to the characters and the music was really\\\\nimportant. And that really inspired the general approach to the gameplay,\\\\\" Edelman says.\\\\n\\\\\"It Has That Feel Of Belonging Everywhere\\\\\"\\\\nThe simulator currently ends around the midpoint of the musical, with British rule defeated and a\\\\nnascent country needing its Founders to guide it into becoming a nation of laws. Edelman says the\\\\nnext step is to expand the gameplay.\\\\nEach scene is carefully realized, with ceremonial swords, candles burning, flowers, artwork,\\\\nsandbags and smoke. David Korins, who designed \\\\\"Hamilton\\\\\" for the stage, consulted on the look\\\\nof the simulator and offered his tweaks. There are also Easter eggs, or hidden messages in the\\\\ngame, such as a scene in the Public Theater. That\\'s a nod to the off-Broadway space where\\\\n\\\\\"Hamilton\\\\\" premiered.\\\\nEdelman says that \\\\\"Hamilton\\\\\" has a timeless feel and that\\'s what makes it successful in the Roblox\\\\nworld. \\\\\"It has that innate feel of belonging everywhere,\\\\\" he also says.\\\\nThe genesis of the idea came from Maggie Brohn, the executive producer for \\\\\"Hamilton\\\\\"\\\\nworldwide and chief operating officer of Adventureland LCC, the lead producer for \\\\\"Hamilton\\\\\"\\\\n\\\\npage_label: 1\\\\nfile_name: hamilton-roblox-2001041877-article_only.pdf\\\\n\\\\nThis article is available at 5 reading levels at https://newsela.com.If you\\\\u2019ve ever wanted to be in \\\\u201cHamilton,\\\\u201d you\\\\ncan now do so \\\\u2014 on Roblox\\\\nThis screenshot provided by Super League shows game avatars from the \\\\\"Hamilton\\\\\" simulator for Roblox. Photo: Super League/AP  Photo:\\\\nSuper League/AP\\\\nThe Broadway musical \\\\\"Hamilton\\\\\" is an innovative stage show and a huge hit. So when it landed\\\\non the popular online game Roblox, something entirely new began. It started an immersive online\\\\nenvironment for a new generation.\\\\n\\\\\"\\'Hamilton\\' has global recognition. Roblox has 66 million daily active users from all around the\\\\nworld. What a perfect match,\\\\\" said Matt Edelman, president and chief commercial officer for\\\\nSuper League, which designed and built the online experience with Small World Games.\\\\nIn the \\\\\"Hamilton\\\\\" simulator, players use their own avatars as they rub shoulders with the\\\\nmusical\\'s characters and negotiate through 10 levels set during the Revolutionary War. It starts at\\\\nthe New York docks and the goal is to free the city from British rule. Appropriately, the music-\\\\nfilled game requires no real money from players.By Associated Press, adapted by Newsela staf f on 09.24.23\\\\nWord Count 880\\\\nLevel 1130L\\\\n---------------------\\\\nGiven the context information and not prior knowledge, answer the query.\\\\nQuery: What is Hamilton? Please explain it to me shortly.\\\\nAnswer: \"}], \"stream\": false, \"model\": \"gpt-3.5-turbo\", \"temperature\": 0.1}' message='Post details'\n",
      "DEBUG:urllib3.connectionpool:https://api.openai.com:443 \"POST /v1/chat/completions HTTP/1.1\" 200 None\n",
      "DEBUG:openai:message='OpenAI API response' path=https://api.openai.com/v1/chat/completions processing_ms=3530 request_id=0bb4841987e9e2654596cf5ed163cbae response_code=200\n",
      "DEBUG:llama_index.llm_predictor.base:Hamilton is a popular Broadway musical that tells the story of Alexander Hamilton, a statesman from the United States. It explores his rise and fall, emphasizing his immigrant background and tragic end. The musical has gained global recognition and has now been adapted into a simulator game on the online platform Roblox. In the game, players can interact with characters from the musical and navigate through various levels set during the Revolutionary War. The goal is to free the city from British rule, and the game incorporates songs from the musical as players progress.\n",
      "---------------------------------\n",
      "Hamilton is a popular Broadway musical that tells the story of Alexander Hamilton, a statesman from the United States. It explores his rise and fall, emphasizing his immigrant background and tragic end. The musical has gained global recognition and has now been adapted into a simulator game on the online platform Roblox. In the game, players can interact with characters from the musical and navigate through various levels set during the Revolutionary War. The goal is to free the city from British rule, and the game incorporates songs from the musical as players progress.\n"
     ]
    }
   ],
   "source": [
    "response = query_engine.query(\"What is Hamilton? Please explain it to me shortly.\")\n",
    "print('---------------------------------')\n",
    "print(response)"
   ]
  },
  {
   "cell_type": "code",
   "execution_count": 13,
   "metadata": {},
   "outputs": [
    {
     "name": "stdout",
     "output_type": "stream",
     "text": [
      "DEBUG:fsspec.local:open file: d:/LlamaIndex_tutorial/storage/docstore.json\n",
      "DEBUG:fsspec.local:open file: d:/LlamaIndex_tutorial/storage/index_store.json\n",
      "DEBUG:fsspec.local:open file: d:/LlamaIndex_tutorial/storage/vector_store.json\n",
      "DEBUG:fsspec.local:open file: d:/LlamaIndex_tutorial/storage/graph_store.json\n"
     ]
    }
   ],
   "source": [
    "# インデックスの保存\n",
    "index.storage_context.persist()"
   ]
  },
  {
   "cell_type": "code",
   "execution_count": 14,
   "metadata": {},
   "outputs": [
    {
     "name": "stdout",
     "output_type": "stream",
     "text": [
      "DEBUG:llama_index.storage.kvstore.simple_kvstore:Loading llama_index.storage.kvstore.simple_kvstore from ./storage/docstore.json.\n",
      "DEBUG:fsspec.local:open file: d:/LlamaIndex_tutorial/storage/docstore.json\n",
      "DEBUG:llama_index.storage.kvstore.simple_kvstore:Loading llama_index.storage.kvstore.simple_kvstore from ./storage/index_store.json.\n",
      "DEBUG:fsspec.local:open file: d:/LlamaIndex_tutorial/storage/index_store.json\n",
      "DEBUG:llama_index.vector_stores.simple:Loading llama_index.vector_stores.simple from ./storage/vector_store.json.\n",
      "DEBUG:fsspec.local:open file: d:/LlamaIndex_tutorial/storage/vector_store.json\n",
      "DEBUG:llama_index.graph_stores.simple:Loading llama_index.graph_stores.simple from ./storage/graph_store.json.\n",
      "DEBUG:fsspec.local:open file: d:/LlamaIndex_tutorial/storage/graph_store.json\n",
      "INFO:llama_index.indices.loading:Loading all indices.\n"
     ]
    }
   ],
   "source": [
    "from llama_index import StorageContext, load_index_from_storage\n",
    "\n",
    "# インデックスの読み込み\n",
    "persist_dir= \"./storage/\"\n",
    "storage_context = StorageContext.from_defaults(persist_dir=persist_dir)\n",
    "index = load_index_from_storage(storage_context)"
   ]
  },
  {
   "cell_type": "code",
   "execution_count": null,
   "metadata": {},
   "outputs": [],
   "source": []
  }
 ],
 "metadata": {
  "kernelspec": {
   "display_name": "env",
   "language": "python",
   "name": "python3"
  },
  "language_info": {
   "codemirror_mode": {
    "name": "ipython",
    "version": 3
   },
   "file_extension": ".py",
   "mimetype": "text/x-python",
   "name": "python",
   "nbconvert_exporter": "python",
   "pygments_lexer": "ipython3",
   "version": "3.9.6"
  }
 },
 "nbformat": 4,
 "nbformat_minor": 2
}
